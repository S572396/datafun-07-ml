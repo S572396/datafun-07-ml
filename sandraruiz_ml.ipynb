{
 "cells": [
  {
   "cell_type": "markdown",
   "metadata": {},
   "source": [
    " # <center>**Project 7: Introduction to Machine Learning**</center>\n",
    "## <center>By: Sandra Ruiz</center>\n",
    "## <center>February 19, 2024</center>\n",
    "                         "
   ]
  },
  {
   "cell_type": "markdown",
   "metadata": {},
   "source": [
    "## Overview\n",
    "\n",
    "In this project a model will be created to make predictions and visualize the data using machine learning and linear regression."
   ]
  },
  {
   "cell_type": "code",
   "execution_count": 44,
   "metadata": {},
   "outputs": [],
   "source": [
    "## Dependencies:\n",
    "import matplotlib.pyplot as plt\n",
    "import pandas as pd\n",
    "from sklearn.linear_model import LinearRegression\n",
    "import numpy as np\n",
    "import seaborn as sns\n",
    "import pyarrow\n",
    "import scipy    "
   ]
  },
  {
   "cell_type": "markdown",
   "metadata": {},
   "source": [
    "## 7.1 Project Setup and Start\n",
    "\n",
    "New repository in Github created and cloned into VS with:\n",
    "\n",
    "''' git clone https://github.com/S572396/datafun-07-ml\n",
    "\n",
    "A vtirual environment was created and activated with:\n",
    "\n",
    "py -m venv .venv\n",
    "\n",
    "and actived by:\n",
    "\n",
    ".\\ . venv\\Scripts\\activate\n",
    "\n",
    "'''\n",
    "\n",
    "pip upgraed with:\n",
    "\n",
    "'''\n",
    "py -m pip install requests --upgrade pip\n",
    "\n",
    "Requirements installed with:\n",
    "\n",
    "pip install jupyterlab pandas pyarrow matplotlib seaborn scipy\n",
    "\n",
    "Requirements txt file created with:\n",
    "\n",
    "py -m pip freeze > requirements.txt\n",
    "\n",
    ".gitignore file created by right click, new file, rename to .gitignore\n",
    "'''\n",
    "Project sent to GitHub repository by:\n",
    "\n",
    "'''\n",
    "git add . git commit -m \"README.md update\" git push -u origin main"
   ]
  },
  {
   "cell_type": "markdown",
   "metadata": {},
   "source": [
    "## 7.2 Examples of Chapter 10\n",
    "\n",
    "* Please see File ch.10.examples.py where a deck of 52 playing cards prints the original deck and prints the listing of a shuffled deck. Cards are sucessfully shuffled with new values displayed"
   ]
  },
  {
   "cell_type": "markdown",
   "metadata": {},
   "source": [
    "## 7.3 Machine Learning Exampe of Chapter 15\n",
    "\n",
    "* Please see example from Folder named ch.15.examples. Data from nyc csv file is used to make predictions for 3 different years and simple linear regression chart is displayed."
   ]
  },
  {
   "cell_type": "markdown",
   "metadata": {},
   "source": [
    "## 7.4 Start a New Notebook\n",
    "\n",
    "* sandraruiz_ml.ipynb file created, git pull was run . \n",
    "* Updated author tile and import statements\n",
    "* git add, git commit, and git push to orign run."
   ]
  },
  {
   "cell_type": "markdown",
   "metadata": {},
   "source": [
    "## 7.5 Chart a Straight Line: Part 1\n",
    "* Using Instructions from Chaper 10.16 to plot Celsius vs Fahrenheit\n"
   ]
  },
  {
   "cell_type": "code",
   "execution_count": 45,
   "metadata": {},
   "outputs": [
    {
     "data": {
      "image/png": "[encoded data removed]",
      "text/plain": [
       "<Figure size 640x480 with 1 Axes>"
      ]
     },
     "metadata": {},
     "output_type": "display_data"
    }
   ],
   "source": [
    "import pandas as pd\n",
    "\n",
    "# Create Lambda\n",
    "celsius_conversion = lambda f: 5/9 * (f - 32)\n",
    "temps = [(f, celsius_conversion(f)) for f in range(0, 101, 10)]\n",
    "\n",
    "# Create DataFrame\n",
    "temps_df = pd.DataFrame(temps, columns=['Fahrenheit', 'Celsius'])\n",
    "\n",
    "# Plot DataFrame with dots and lines\n",
    "axes = temps_df.plot(x='Fahrenheit', y='Celsius', style='.-')\n",
    "y_label = axes.set_ylabel('Celsius')\n"
   ]
  },
  {
   "cell_type": "markdown",
   "metadata": {},
   "source": [
    "## 7.6 Predict Avg High Temp in NYC in January: Part 2"
   ]
  },
  {
   "cell_type": "markdown",
   "metadata": {},
   "source": [
    "### Introduction\n",
    "Here we will look at the avg hight temperatures in NYC from 1895-2018. Predictions will also be made."
   ]
  },
  {
   "cell_type": "markdown",
   "metadata": {},
   "source": [
    "### Dependencies Used:\n",
    "import matplotlib.pyplot as plt\n",
    "import pandas as pd\n",
    "from sklearn.linear_model import LinearRegression\n",
    "import numpy as np"
   ]
  },
  {
   "cell_type": "markdown",
   "metadata": {},
   "source": [
    "### 1. Data Acquisition\n",
    "Website: https://www.ncdc.noaa.gov/cag/\n",
    "* Dataframe downloaded and saved under nyc_df.csv\n",
    "\n",
    "* Equation Reference: (y = mx +b)"
   ]
  },
  {
   "cell_type": "markdown",
   "metadata": {},
   "source": [
    "### 2. Data Inspection"
   ]
  },
  {
   "cell_type": "code",
   "execution_count": 46,
   "metadata": {},
   "outputs": [
    {
     "name": "stdout",
     "output_type": "stream",
     "text": [
      "Head of the data:\n",
      "     Date  Value  Anomaly\n",
      "0  189501  26.69    -3.43\n",
      "1  189601  31.48     1.36\n",
      "2  189701  28.17    -1.95\n",
      "3  189801  30.67     0.55\n",
      "\n",
      "Tail of the data:\n",
      "       Date  Value  Anomaly\n",
      "120  201501  33.08     2.96\n",
      "121  201601  32.22     2.10\n",
      "122  201701  33.57     3.45\n",
      "123  201801  32.16     2.04\n"
     ]
    }
   ],
   "source": [
    "import pandas as pd\n",
    "import os\n",
    "\n",
    "\n",
    "current_directory = os.getcwd()\n",
    "\n",
    "file_path = os.path.join(current_directory, 'nyc.csv')\n",
    "\n",
    "nyc = pd.read_csv(file_path, encoding='utf-8')\n",
    "\n",
    "# Display the first 4 rows (head)\n",
    "print(\"Head of the data:\")\n",
    "print(nyc.head(4))\n",
    "\n",
    "# Display the last 4 rows (tail)\n",
    "print(\"\\nTail of the data:\")\n",
    "print(nyc.tail(4))\n"
   ]
  },
  {
   "cell_type": "markdown",
   "metadata": {},
   "source": [
    "### 3. Data Cleaning"
   ]
  },
  {
   "cell_type": "code",
   "execution_count": 47,
   "metadata": {},
   "outputs": [
    {
     "name": "stdout",
     "output_type": "stream",
     "text": [
      "     Date  Temperature  Anomaly\n",
      "0  189501        26.69    -3.43\n",
      "1  189601        31.48     1.36\n",
      "2  189701        28.17    -1.95\n"
     ]
    }
   ],
   "source": [
    "###Rename 'Value' column as 'Temperature'\n",
    "\n",
    "nyc.columns = ['Date', 'Temperature', 'Anomaly']  # Rename 'Value' column as 'Temperature'\n",
    "print(nyc.head(3))\n"
   ]
  },
  {
   "cell_type": "code",
   "execution_count": 48,
   "metadata": {},
   "outputs": [
    {
     "data": {
      "text/plain": [
       "dtype('int64')"
      ]
     },
     "execution_count": 48,
     "metadata": {},
     "output_type": "execute_result"
    }
   ],
   "source": [
    "### to view data type\n",
    "nyc.Date.dtype\n"
   ]
  },
  {
   "cell_type": "code",
   "execution_count": 49,
   "metadata": {},
   "outputs": [
    {
     "name": "stdout",
     "output_type": "stream",
     "text": [
      "   Date  Value  Anomaly\n",
      "0  1895  26.69    -3.43\n",
      "1  1896  31.48     1.36\n",
      "2  1897  28.17    -1.95\n"
     ]
    }
   ],
   "source": [
    "import pandas as pd\n",
    "import os\n",
    "\n",
    "\n",
    "current_directory = os.getcwd()\n",
    "\n",
    "file_path = os.path.join(current_directory, 'nyc.csv')\n",
    "\n",
    "nyc = pd.read_csv(file_path, encoding='utf-8')\n",
    "\n",
    "### To fix date:\n",
    "nyc.Date= nyc.Date.floordiv(100)\n",
    "print(nyc.head(3))\n"
   ]
  },
  {
   "cell_type": "markdown",
   "metadata": {},
   "source": [
    "### 4. Descriptive Statistics"
   ]
  },
  {
   "cell_type": "code",
   "execution_count": 50,
   "metadata": {},
   "outputs": [
    {
     "data": {
      "text/plain": [
       "count    124.00\n",
       "mean      30.46\n",
       "std        3.06\n",
       "min       21.90\n",
       "25%       29.04\n",
       "50%       30.67\n",
       "75%       32.32\n",
       "max       38.93\n",
       "Name: Temperature, dtype: float64"
      ]
     },
     "execution_count": 50,
     "metadata": {},
     "output_type": "execute_result"
    }
   ],
   "source": [
    "### using the describe () and set precison\n",
    "import pandas as pd\n",
    "\n",
    "nyc.columns = ['Date', 'Temperature', 'Anomaly']  # Rename 'Value' column as 'Temperature'\n",
    "\n",
    "pd.set_option('display.precision', 2)\n",
    "nyc.Temperature.describe()\n",
    "\n"
   ]
  },
  {
   "cell_type": "markdown",
   "metadata": {},
   "source": [
    "### 5. Build the Model"
   ]
  },
  {
   "cell_type": "markdown",
   "metadata": {},
   "source": [
    "### Introduction: Use SciPy stats module linregress function to calculate slope and intercept for the best fit line for the data."
   ]
  },
  {
   "cell_type": "code",
   "execution_count": 51,
   "metadata": {},
   "outputs": [
    {
     "name": "stdout",
     "output_type": "stream",
     "text": [
      "0.0001785340676632572\n"
     ]
    }
   ],
   "source": [
    "### Dependency Imports:\n",
    "\n",
    "from scipy import stats\n",
    "import pandas as pd\n",
    "import os\n",
    "\n",
    "\n",
    "\n",
    "# Load the DataFrame from the CSV file\n",
    "nyc = pd.read_csv('nyc.csv')\n",
    "\n",
    "nyc.columns = ['Date', 'Temperature', 'Anomaly']  # Rename 'Value' column as 'Temperature'\n",
    "\n",
    "\n",
    "\n",
    "linear_regression = stats.linregress(x=nyc.Date, y=nyc.Temperature)\n",
    "\n",
    "slope = linear_regression.slope\n",
    "\n",
    "print(slope)\n"
   ]
  },
  {
   "cell_type": "code",
   "execution_count": 52,
   "metadata": {},
   "outputs": [
    {
     "name": "stdout",
     "output_type": "stream",
     "text": [
      "-4.472143065932325\n"
     ]
    }
   ],
   "source": [
    "from scipy import stats\n",
    "import pandas as pd\n",
    "\n",
    "# Load the DataFrame from the CSV file\n",
    "nyc = pd.read_csv('nyc.csv')\n",
    "\n",
    "nyc.columns = ['Date', 'Temperature', 'Anomaly']  # Rename 'Value' column as 'Temperature'\n",
    "\n",
    "# Perform linear regression\n",
    "linear_regression = stats.linregress(x=nyc['Date'].values, y=nyc['Temperature'].values)\n",
    "\n",
    "# Access the slope\n",
    "intercept = linear_regression.intercept\n",
    "\n",
    "print(intercept)\n",
    "\n",
    "\n"
   ]
  },
  {
   "cell_type": "markdown",
   "metadata": {},
   "source": [
    "### 6. Predict the \"avg high temp in Jan\" for the year 2024:"
   ]
  },
  {
   "cell_type": "code",
   "execution_count": 53,
   "metadata": {},
   "outputs": [
    {
     "data": {
      "text/plain": [
       "-4.110790112981893"
      ]
     },
     "execution_count": 53,
     "metadata": {},
     "output_type": "execute_result"
    }
   ],
   "source": [
    "from scipy import stats\n",
    "linear_regression = stats.linregress(x=nyc.Date, y= nyc.Temperature)\n",
    "\n",
    "linear_regression.slope * 2024 + linear_regression.intercept"
   ]
  },
  {
   "cell_type": "markdown",
   "metadata": {},
   "source": [
    "### 7. Visualizations: Use Seaborn to do a scatterplot to find the best fit line"
   ]
  },
  {
   "cell_type": "code",
   "execution_count": 54,
   "metadata": {},
   "outputs": [
    {
     "data": {
      "text/plain": [
       "(10.0, 70.0)"
      ]
     },
     "execution_count": 54,
     "metadata": {},
     "output_type": "execute_result"
    },
    {
     "data": {
      "image/png": "[encoded data removed]",
      "text/plain": [
       "<Figure size 640x480 with 1 Axes>"
      ]
     },
     "metadata": {},
     "output_type": "display_data"
    }
   ],
   "source": [
    "import seaborn as sns\n",
    "sns.set_style ('whitegrid')\n",
    "nyc.Date= nyc.Date.floordiv(100)\n",
    "axes = sns.regplot(x=nyc.Date, y =nyc.Temperature)\n",
    "axes.set_ylim (10,70)"
   ]
  },
  {
   "cell_type": "markdown",
   "metadata": {},
   "source": [
    "## 7.7 Predict Avg High Temp in NYC in January (Part 3): using scikit-learn estimator \n",
    "### Instructions from chapter 15.4"
   ]
  },
  {
   "cell_type": "markdown",
   "metadata": {},
   "source": [
    "* Continuation of steps 7.6 1-5 previously completed Data Acquisition, Data Inspection, Data Cleaning, and Desriptive Statistics"
   ]
  },
  {
   "cell_type": "markdown",
   "metadata": {},
   "source": [
    "### 1.Build the Model\n",
    "### Introduction: Use test_train_split to split the data into parts for training and testing"
   ]
  },
  {
   "cell_type": "code",
   "execution_count": 55,
   "metadata": {},
   "outputs": [],
   "source": [
    "## Dependencies:\n",
    "import matplotlib.pyplot as plt\n",
    "import pandas as pd\n",
    "from sklearn.linear_model import LinearRegression\n",
    "import numpy as np\n",
    "import seaborn as sns\n",
    "import pyarrow\n",
    "import scipy    "
   ]
  },
  {
   "cell_type": "code",
   "execution_count": 56,
   "metadata": {},
   "outputs": [
    {
     "data": {
      "text/plain": [
       "(93, 1)"
      ]
     },
     "execution_count": 56,
     "metadata": {},
     "output_type": "execute_result"
    }
   ],
   "source": [
    "### check the shape of the data\n",
    "\n",
    "from sklearn.model_selection import train_test_split\n",
    "\n",
    "x_train, x_test, y_train, y_test = train_test_split( nyc.Date.values.reshape (-1,1), nyc.Temperature.values,random_state=11)\n",
    "\n",
    "x_train.shape\n"
   ]
  },
  {
   "cell_type": "code",
   "execution_count": 57,
   "metadata": {},
   "outputs": [
    {
     "data": {
      "text/plain": [
       "(31, 1)"
      ]
     },
     "execution_count": 57,
     "metadata": {},
     "output_type": "execute_result"
    }
   ],
   "source": [
    "### check the shape of the data\n",
    "\n",
    "from sklearn.model_selection import train_test_split\n",
    "\n",
    "x_train, x_test, y_train, y_test = train_test_split( nyc.Date.values.reshape (-1,1), nyc.Temperature.values,random_state=11)\n",
    "\n",
    "x_test.shape"
   ]
  },
  {
   "cell_type": "code",
   "execution_count": 58,
   "metadata": {},
   "outputs": [
    {
     "name": "stdout",
     "output_type": "stream",
     "text": [
      "Coefficients: [0.00018623]\n",
      "Intercept: -6.019515959794582\n"
     ]
    }
   ],
   "source": [
    "import pandas as pd\n",
    "from sklearn.model_selection import train_test_split\n",
    "\n",
    "### to get the coefficient and intercept needed for equation (y=mx+b)\n",
    "\n",
    "nyc = pd.read_csv('nyc.csv')\n",
    "nyc.columns = ['Date', 'Temperature', 'Anomaly']  # Rename 'Value' column as 'Temperature'\n",
    "\n",
    "\n",
    "X = nyc[['Date']]  \n",
    "y = nyc['Temperature']  \n",
    "\n",
    "# Split the data into training and testing sets\n",
    "X_train, X_test, y_train, y_test = train_test_split(X, y, test_size=0.2, random_state=42)\n",
    "\n",
    "\n",
    "linear_regression = LinearRegression()\n",
    "\n",
    "linear_regression.fit(X_train, y_train)\n",
    "\n",
    "# Print the coefficients and intercept\n",
    "print(\"Coefficients:\", linear_regression.coef_)\n",
    "print(\"Intercept:\", linear_regression.intercept_)\n"
   ]
  },
  {
   "cell_type": "markdown",
   "metadata": {},
   "source": [
    "### 2. Test the Model: Using data in x_test\n"
   ]
  },
  {
   "cell_type": "code",
   "execution_count": 59,
   "metadata": {},
   "outputs": [
    {
     "name": "stdout",
     "output_type": "stream",
     "text": [
      "predicted:  29.61, expected:  30.47\n",
      "predicted:  30.95, expected:  26.31\n",
      "predicted:  29.77, expected:  26.80\n",
      "predicted:  30.70, expected:  29.93\n",
      "predicted:  30.15, expected:  29.84\n"
     ]
    }
   ],
   "source": [
    "import pandas as pd\n",
    "from sklearn.linear_model import LinearRegression\n",
    "from sklearn.model_selection import train_test_split\n",
    "\n",
    "\n",
    "nyc = pd.read_csv('nyc.csv')\n",
    "nyc.columns = ['Date', 'Temperature', 'Anomaly']  # Rename 'Value' column as 'Temperature'\n",
    "\n",
    "X = nyc[['Date']]  \n",
    "y = nyc['Temperature']  \n",
    "\n",
    "\n",
    "X_train, X_test, y_train, y_test = train_test_split(X, y, test_size=0.2, random_state=42)\n",
    "\n",
    "\n",
    "linear_regression = LinearRegression()\n",
    "\n",
    "linear_regression.fit(X_train, y_train)\n",
    "\n",
    "# Predict on the test set\n",
    "predicted = linear_regression.predict(X_test)\n",
    "expected = y_test\n",
    "\n",
    "# Print predicted and expected values\n",
    "for p, e in zip(predicted[::5], expected[::5]):\n",
    "    print(f'predicted: {p: .2f}, expected: {e: .2f}')\n"
   ]
  },
  {
   "cell_type": "markdown",
   "metadata": {},
   "source": [
    "### 3. Predict: Use Model to predict \"average high temp in Jan\" for the year 2024"
   ]
  },
  {
   "cell_type": "code",
   "execution_count": 60,
   "metadata": {},
   "outputs": [
    {
     "data": {
      "text/plain": [
       "array([-5.64259343])"
      ]
     },
     "execution_count": 60,
     "metadata": {},
     "output_type": "execute_result"
    }
   ],
   "source": [
    "predict= (lambda x: linear_regression.coef_* x + linear_regression.intercept_)\n",
    "predict(2024)"
   ]
  },
  {
   "cell_type": "markdown",
   "metadata": {},
   "source": [
    "### 4.Visualizations: Use Seaborn to make scatter plot with a best fit line."
   ]
  },
  {
   "cell_type": "code",
   "execution_count": 61,
   "metadata": {},
   "outputs": [
    {
     "name": "stderr",
     "output_type": "stream",
     "text": [
      "c:\\Users\\19564\\AppData\\Local\\Programs\\Python\\Python312\\Lib\\site-packages\\sklearn\\base.py:493: UserWarning: X does not have valid feature names, but LinearRegression was fitted with feature names\n",
      "  warnings.warn(\n"
     ]
    },
    {
     "data": {
      "image/png": "[encoded data removed]",
      "text/plain": [
       "<Figure size 640x480 with 1 Axes>"
      ]
     },
     "metadata": {},
     "output_type": "display_data"
    }
   ],
   "source": [
    "import seaborn as sns\n",
    "import pandas as pd\n",
    "import seaborn as sns\n",
    "import numpy as np\n",
    "import matplotlib.pyplot as plt\n",
    "from sklearn.linear_model import LinearRegression\n",
    "\n",
    "# Load the DataFrame from the CSV file\n",
    "nyc = pd.read_csv('nyc.csv')\n",
    "nyc.columns = ['Date', 'Temperature', 'Anomaly']  # Rename 'Value' column as 'Temperature'\n",
    "nyc.Date= nyc.Date.floordiv(100)\n",
    "\n",
    "# 'Date' is the independent variable and 'Temperature' is the dependent variable\n",
    "X = nyc[['Date']]  \n",
    "y = nyc['Temperature']\n",
    "\n",
    "# Create and fit the linear regression model\n",
    "linear_regression = LinearRegression()\n",
    "linear_regression.fit(X, y)\n",
    "\n",
    "# Plot scatter plot\n",
    "axes = sns.scatterplot(data=nyc, x='Date', y='Temperature', hue='Temperature', palette='winter', legend=False)\n",
    "axes.set_ylim(10, 70)\n",
    "\n",
    "# Plot regression line\n",
    "x_values = np.array([min(nyc['Date']), max(nyc['Date'])])\n",
    "y_values = linear_regression.predict(x_values.reshape(-1, 1))\n",
    "line = plt.plot(x_values, y_values, color='red', label='Regression Line')\n",
    "\n",
    "# Show legend\n",
    "plt.legend()\n",
    "\n",
    "# Display the plot\n",
    "plt.show()\n",
    "\n"
   ]
  },
  {
   "cell_type": "markdown",
   "metadata": {},
   "source": [
    "## 7.8 Insights: "
   ]
  },
  {
   "cell_type": "markdown",
   "metadata": {},
   "source": [
    "compare the 2 methods.\n"
   ]
  }
 ],
 "metadata": {
  "kernelspec": {
   "display_name": "Python 3",
   "language": "python",
   "name": "python3"
  },
  "language_info": {
   "codemirror_mode": {
    "name": "ipython",
    "version": 3
   },
   "file_extension": ".py",
   "mimetype": "text/x-python",
   "name": "python",
   "nbconvert_exporter": "python",
   "pygments_lexer": "ipython3",
   "version": "3.12.1"
  }
 },
 "nbformat": 4,
 "nbformat_minor": 2
}
