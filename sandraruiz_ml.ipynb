{
 "cells": [
  {
   "cell_type": "markdown",
   "metadata": {},
   "source": [
    " # <center>**Project 7: Introduction to Machine Learning**</center>\n",
    "## <center>By: Sandra Ruiz</center>\n",
    "## <center>February 19, 2024</center>\n",
    "                         "
   ]
  },
  {
   "cell_type": "markdown",
   "metadata": {},
   "source": [
    "## Overview\n",
    "\n",
    "In this project a model will be created to make predictions and visualize the data using machine learning and linear regression."
   ]
  },
  {
   "cell_type": "code",
   "execution_count": 9,
   "metadata": {},
   "outputs": [],
   "source": [
    "## Dependencies Needes:\n",
    "import matplotlib.pyplot as plt\n",
    "import pandas as pd\n",
    "from sklearn.linear_model import LinearRegression\n",
    "import numpy as np\n",
    "import seaborn as sns\n",
    "import pyarrow\n",
    "import scipy    "
   ]
  },
  {
   "cell_type": "markdown",
   "metadata": {},
   "source": [
    "## 7.1 Project Setup and Start\n",
    "\n",
    "New repository in Github created and cloned into VS with:\n",
    "\n",
    "''' git clone https://github.com/S572396/datafun-07-ml\n",
    "\n",
    "A vtirual environment was created and activated with:\n",
    "\n",
    "py -m venv .venv\n",
    "\n",
    "and actived by:\n",
    "\n",
    ".\\ . venv\\Scripts\\activate\n",
    "\n",
    "'''\n",
    "\n",
    "pip upgraed with:\n",
    "\n",
    "'''\n",
    "py -m pip install requests --upgrade pip\n",
    "\n",
    "Requirements installed with:\n",
    "\n",
    "pip install jupyterlab pandas pyarrow matplotlib seaborn scipy\n",
    "\n",
    "Requirements txt file created with:\n",
    "\n",
    "py -m pip freeze > requirements.txt\n",
    "\n",
    ".gitignore file created by right click, new file, rename to .gitignore\n",
    "'''\n",
    "Project sent to GitHub repository by:\n",
    "\n",
    "'''\n",
    "git add . git commit -m \"README.md update\" git push -u origin main"
   ]
  },
  {
   "cell_type": "markdown",
   "metadata": {},
   "source": [
    "## 7.2 Examples of Chapter 10\n",
    "\n",
    "* Please see File ch.10.examples.py where a deck of 52 playing cards prints the original deck and prints the listing of a shuffled deck. Cards are sucessfully shuffled with new values displayed"
   ]
  },
  {
   "cell_type": "markdown",
   "metadata": {},
   "source": [
    "## 7.3 Machine Learning Exampe of Chapter 15\n",
    "\n",
    "* Please see example from Folder named ch.15.examples. Data from nyc csv file is used to make predictions for 3 different years and simple linear regression chart is displayed."
   ]
  },
  {
   "cell_type": "markdown",
   "metadata": {},
   "source": [
    "## 7.4 Start a New Notebook\n",
    "\n",
    "* sandraruiz_ml.ipynb file created, git pull was run . \n",
    "* Updated author tile and import statements\n",
    "* git add, git commit, and git push to orign run."
   ]
  },
  {
   "cell_type": "markdown",
   "metadata": {},
   "source": [
    "## 7.5 Chart a Straight Line: Part 1\n",
    "* Using Instructions from Chaper 10.16 to plot Celsius vs Fahrenheit\n"
   ]
  },
  {
   "cell_type": "code",
   "execution_count": 10,
   "metadata": {},
   "outputs": [
    {
     "data": {
      "image/png": "[encoded data removed]",
      "text/plain": [
       "<Figure size 640x480 with 1 Axes>"
      ]
     },
     "metadata": {},
     "output_type": "display_data"
    }
   ],
   "source": [
    "import pandas as pd\n",
    "\n",
    "# Create Lambda\n",
    "celsius_conversion = lambda f: 5/9 * (f - 32)\n",
    "temps = [(f, celsius_conversion(f)) for f in range(0, 101, 10)]\n",
    "\n",
    "# Create DataFrame\n",
    "temps_df = pd.DataFrame(temps, columns=['Fahrenheit', 'Celsius'])\n",
    "\n",
    "# Plot DataFrame with dots and lines\n",
    "axes = temps_df.plot(x='Fahrenheit', y='Celsius', style='.-')\n",
    "y_label = axes.set_ylabel('Celsius')\n"
   ]
  },
  {
   "cell_type": "markdown",
   "metadata": {},
   "source": [
    "## 7.6 Predict Avg High Temp in NYC in January: Part 2"
   ]
  },
  {
   "cell_type": "markdown",
   "metadata": {},
   "source": [
    "### Introduction\n",
    "Here we will look at the avg hight temperatures in NYC from 1895-2018. Predictions will also be made."
   ]
  },
  {
   "cell_type": "markdown",
   "metadata": {},
   "source": [
    "### Dependencies Used:\n",
    "import matplotlib.pyplot as plt\n",
    "import pandas as pd\n",
    "from sklearn.linear_model import LinearRegression\n",
    "import numpy as np"
   ]
  },
  {
   "cell_type": "markdown",
   "metadata": {},
   "source": [
    "### 1. Data Acquisition\n",
    "Website: https://www.ncdc.noaa.gov/cag/\n",
    "* Dataframe downloaded and saved under nyc_df.csv\n",
    "\n",
    "* Equation Reference: (y = mx +b)"
   ]
  },
  {
   "cell_type": "markdown",
   "metadata": {},
   "source": [
    "### 2. Data Inspection"
   ]
  },
  {
   "cell_type": "code",
   "execution_count": 13,
   "metadata": {},
   "outputs": [
    {
     "name": "stdout",
     "output_type": "stream",
     "text": [
      "Head of the data:\n",
      "     Date  Value  Anomaly\n",
      "0  189501  26.69    -3.43\n",
      "1  189601  31.48     1.36\n",
      "2  189701  28.17    -1.95\n",
      "3  189801  30.67     0.55\n",
      "\n",
      "Tail of the data:\n",
      "       Date  Value  Anomaly\n",
      "120  201501  33.08     2.96\n",
      "121  201601  32.22     2.10\n",
      "122  201701  33.57     3.45\n",
      "123  201801  32.16     2.04\n"
     ]
    }
   ],
   "source": [
    "import pandas as pd\n",
    "import os\n",
    "\n",
    "\n",
    "current_directory = os.getcwd()\n",
    "\n",
    "file_path = os.path.join(current_directory, 'nyc.csv')\n",
    "\n",
    "nyc = pd.read_csv(file_path, encoding='utf-8')\n",
    "\n",
    "# Display the first 4 rows (head)\n",
    "print(\"Head of the data:\")\n",
    "print(nyc.head(4))\n",
    "\n",
    "# Display the last 4 rows (tail)\n",
    "print(\"\\nTail of the data:\")\n",
    "print(nyc.tail(4))\n"
   ]
  },
  {
   "cell_type": "markdown",
   "metadata": {},
   "source": [
    "### 3. Data Cleaning"
   ]
  },
  {
   "cell_type": "code",
   "execution_count": 16,
   "metadata": {},
   "outputs": [
    {
     "name": "stdout",
     "output_type": "stream",
     "text": [
      "     Date  Temperature  Anomaly\n",
      "0  189501        26.69    -3.43\n",
      "1  189601        31.48     1.36\n",
      "2  189701        28.17    -1.95\n"
     ]
    }
   ],
   "source": [
    "###Rename 'Value' column as 'Temperature'\n",
    "\n",
    "nyc.columns = ['Date', 'Temperature', 'Anomaly']  # Rename 'Value' column as 'Temperature'\n",
    "print(nyc.head(3))\n"
   ]
  },
  {
   "cell_type": "code",
   "execution_count": 23,
   "metadata": {},
   "outputs": [
    {
     "data": {
      "text/plain": [
       "dtype('int64')"
      ]
     },
     "execution_count": 23,
     "metadata": {},
     "output_type": "execute_result"
    }
   ],
   "source": [
    "### to view data type\n",
    "nyc.Date.dtype\n"
   ]
  },
  {
   "cell_type": "code",
   "execution_count": 29,
   "metadata": {},
   "outputs": [
    {
     "name": "stdout",
     "output_type": "stream",
     "text": [
      "   Date  Value  Anomaly\n",
      "0  1895  26.69    -3.43\n",
      "1  1896  31.48     1.36\n",
      "2  1897  28.17    -1.95\n"
     ]
    }
   ],
   "source": [
    "import pandas as pd\n",
    "import os\n",
    "\n",
    "\n",
    "current_directory = os.getcwd()\n",
    "\n",
    "file_path = os.path.join(current_directory, 'nyc.csv')\n",
    "\n",
    "nyc = pd.read_csv(file_path, encoding='utf-8')\n",
    "\n",
    "### To fix date:\n",
    "nyc.Date= nyc.Date.floordiv(100)\n",
    "print(nyc.head(3))\n"
   ]
  },
  {
   "cell_type": "markdown",
   "metadata": {},
   "source": [
    "### 4. Descriptive Statistics"
   ]
  },
  {
   "cell_type": "code",
   "execution_count": 36,
   "metadata": {},
   "outputs": [
    {
     "data": {
      "text/plain": [
       "count    124.00\n",
       "mean      30.46\n",
       "std        3.06\n",
       "min       21.90\n",
       "25%       29.04\n",
       "50%       30.67\n",
       "75%       32.32\n",
       "max       38.93\n",
       "Name: Temperature, dtype: float64"
      ]
     },
     "execution_count": 36,
     "metadata": {},
     "output_type": "execute_result"
    }
   ],
   "source": [
    "### using the describe () and set precison\n",
    "import pandas as pd\n",
    "\n",
    "nyc.columns = ['Date', 'Temperature', 'Anomaly']  # Rename 'Value' column as 'Temperature'\n",
    "\n",
    "pd.set_option('display.precision', 2)\n",
    "nyc.Temperature.describe()\n",
    "\n"
   ]
  },
  {
   "cell_type": "markdown",
   "metadata": {},
   "source": [
    "### 5. Build the Model"
   ]
  },
  {
   "cell_type": "markdown",
   "metadata": {},
   "source": [
    "### Introduction: Use SciPy stats module linregress function to calculate slope and intercept for the best fit line for the data."
   ]
  },
  {
   "cell_type": "code",
   "execution_count": 4,
   "metadata": {},
   "outputs": [
    {
     "name": "stdout",
     "output_type": "stream",
     "text": [
      "0.0001785340676632572\n"
     ]
    }
   ],
   "source": [
    "### Dependency Imports:\n",
    "\n",
    "from scipy import stats\n",
    "import pandas as pd\n",
    "import os\n",
    "\n",
    "\n",
    "\n",
    "# Load the DataFrame from the CSV file\n",
    "nyc = pd.read_csv('nyc.csv')\n",
    "\n",
    "nyc.columns = ['Date', 'Temperature', 'Anomaly']  # Rename 'Value' column as 'Temperature'\n",
    "\n",
    "\n",
    "\n",
    "linear_regression = stats.linregress(x=nyc.Date, y=nyc.Temperature)\n",
    "\n",
    "slope = linear_regression.slope\n",
    "\n",
    "print(slope)\n"
   ]
  },
  {
   "cell_type": "code",
   "execution_count": 6,
   "metadata": {},
   "outputs": [
    {
     "name": "stdout",
     "output_type": "stream",
     "text": [
      "-4.472143065932325\n"
     ]
    }
   ],
   "source": [
    "from scipy import stats\n",
    "import pandas as pd\n",
    "\n",
    "# Load the DataFrame from the CSV file\n",
    "nyc = pd.read_csv('nyc.csv')\n",
    "\n",
    "nyc.columns = ['Date', 'Temperature', 'Anomaly']  # Rename 'Value' column as 'Temperature'\n",
    "\n",
    "# Perform linear regression\n",
    "linear_regression = stats.linregress(x=nyc['Date'].values, y=nyc['Temperature'].values)\n",
    "\n",
    "# Access the slope\n",
    "intercept = linear_regression.intercept\n",
    "\n",
    "print(intercept)\n",
    "\n",
    "\n"
   ]
  },
  {
   "cell_type": "markdown",
   "metadata": {},
   "source": [
    "### 6. Predict the \"avg high temp in Jan\" for the year 2024:"
   ]
  },
  {
   "cell_type": "code",
   "execution_count": 7,
   "metadata": {},
   "outputs": [
    {
     "data": {
      "text/plain": [
       "-4.110790112981893"
      ]
     },
     "execution_count": 7,
     "metadata": {},
     "output_type": "execute_result"
    }
   ],
   "source": [
    "from scipy import stats\n",
    "linear_regression = stats.linregress(x=nyc.Date, y= nyc.Temperature)\n",
    "\n",
    "linear_regression.slope * 2024 + linear_regression.intercept"
   ]
  },
  {
   "cell_type": "markdown",
   "metadata": {},
   "source": [
    "### 7. Visualizations: Use Seaborn to do a scatterplot to find the best fit line"
   ]
  },
  {
   "cell_type": "code",
   "execution_count": 8,
   "metadata": {},
   "outputs": [
    {
     "data": {
      "text/plain": [
       "(10.0, 70.0)"
      ]
     },
     "execution_count": 8,
     "metadata": {},
     "output_type": "execute_result"
    },
    {
     "data": {
      "image/png": "[encoded data removed]",
      "text/plain": [
       "<Figure size 640x480 with 1 Axes>"
      ]
     },
     "metadata": {},
     "output_type": "display_data"
    }
   ],
   "source": [
    "import seaborn as sns\n",
    "sns.set_style ('whitegrid')\n",
    "nyc.Date= nyc.Date.floordiv(100)\n",
    "axes = sns.regplot(x=nyc.Date, y =nyc.Temperature)\n",
    "axes.set_ylim (10,70)"
   ]
  },
  {
   "cell_type": "code",
   "execution_count": 12,
   "metadata": {},
   "outputs": [
    {
     "ename": "NameError",
     "evalue": "name 'nyc' is not defined",
     "output_type": "error",
     "traceback": [
      "\u001b[1;31m---------------------------------------------------------------------------\u001b[0m",
      "\u001b[1;31mNameError\u001b[0m                                 Traceback (most recent call last)",
      "Cell \u001b[1;32mIn[12], line 3\u001b[0m\n\u001b[0;32m      1\u001b[0m \u001b[38;5;28;01mimport\u001b[39;00m \u001b[38;5;21;01mseaborn\u001b[39;00m \u001b[38;5;28;01mas\u001b[39;00m \u001b[38;5;21;01msns\u001b[39;00m\n\u001b[0;32m      2\u001b[0m sns\u001b[38;5;241m.\u001b[39mset_style (\u001b[38;5;124m'\u001b[39m\u001b[38;5;124mwhitegrid\u001b[39m\u001b[38;5;124m'\u001b[39m)\n\u001b[1;32m----> 3\u001b[0m nyc\u001b[38;5;241m.\u001b[39mDate\u001b[38;5;241m=\u001b[39m \u001b[43mnyc\u001b[49m\u001b[38;5;241m.\u001b[39mDate\u001b[38;5;241m.\u001b[39mfloordiv(\u001b[38;5;241m100\u001b[39m)\n\u001b[0;32m      4\u001b[0m axes \u001b[38;5;241m=\u001b[39m sns\u001b[38;5;241m.\u001b[39mregplot(x\u001b[38;5;241m=\u001b[39mnyc\u001b[38;5;241m.\u001b[39mDate, y \u001b[38;5;241m=\u001b[39mnyc\u001b[38;5;241m.\u001b[39mTemperature)\n\u001b[0;32m      5\u001b[0m axes\u001b[38;5;241m.\u001b[39mset_ylim (\u001b[38;5;241m10\u001b[39m,\u001b[38;5;241m70\u001b[39m)\n",
      "\u001b[1;31mNameError\u001b[0m: name 'nyc' is not defined"
     ]
    }
   ],
   "source": [
    "import seaborn as sns\n",
    "sns.set_style ('whitegrid')\n",
    "nyc.Date= nyc.Date.floordiv(100)\n",
    "axes = sns.regplot(x=nyc.Date, y =nyc.Temperature)\n",
    "axes.set_ylim (10,70)"
   ]
  }
 ],
 "metadata": {
  "kernelspec": {
   "display_name": "Python 3",
   "language": "python",
   "name": "python3"
  },
  "language_info": {
   "codemirror_mode": {
    "name": "ipython",
    "version": 3
   },
   "file_extension": ".py",
   "mimetype": "text/x-python",
   "name": "python",
   "nbconvert_exporter": "python",
   "pygments_lexer": "ipython3",
   "version": "3.12.1"
  }
 },
 "nbformat": 4,
 "nbformat_minor": 2
}
